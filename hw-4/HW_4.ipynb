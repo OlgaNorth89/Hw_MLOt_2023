{
 "cells": [
  {
   "cell_type": "code",
   "execution_count": 1,
   "id": "93e959d7",
   "metadata": {},
   "outputs": [],
   "source": [
    "import numpy as np\n",
    "import matplotlib.pyplot as plt\n",
    "from numpy.linalg import svd, norm\n",
    "from numpy.random import default_rng"
   ]
  },
  {
   "cell_type": "code",
   "execution_count": 3,
   "id": "e78b18bd",
   "metadata": {},
   "outputs": [
    {
     "name": "stdout",
     "output_type": "stream",
     "text": [
      "[[ 14  14 -11]\n",
      " [-16   3  -6]]\n"
     ]
    }
   ],
   "source": [
    "# Задача 1.1\n",
    "A = np.array([[2, -4],\n",
    "              [3, 5],\n",
    "              [-1, 0]])\n",
    "B = np.array([[1, 2, 7],\n",
    "              [-3, -4, 0],\n",
    "              [5, 2, 1]])\n",
    "C = np.array([[6, -3, 9],\n",
    "              [4, -5, 2],\n",
    "              [8, 1, 5]])\n",
    "AT = A.T\n",
    "BT = B.T\n",
    "D = np.dot(AT, C)-2*np.dot(AT, BT)\n",
    "print(D)"
   ]
  },
  {
   "cell_type": "code",
   "execution_count": 7,
   "id": "6d5f4bce",
   "metadata": {},
   "outputs": [
    {
     "name": "stdout",
     "output_type": "stream",
     "text": [
      "{x: 2, u: 10, y: 6, z: -4}\n"
     ]
    }
   ],
   "source": [
    "# Задача 1.2\n",
    "import sympy as sp\n",
    "x, y, z, u = sp.symbols('x y z u') # определим символы\n",
    "D = sp.Matrix([[x, 2, 3], # матрицы с использованием символов\n",
    "              [-1, y, 4]])\n",
    "E = sp.Matrix([[1, 2, -5],\n",
    "              [2, -6, z]])\n",
    "F = sp.Matrix([[8, u, -1],\n",
    "              [1, 6, 4]])\n",
    "eq = sp.Eq(3*D+2*E, F) # Задаем исходное уравнение\n",
    "\n",
    "solution = sp.solve(eq, (x, y, z, u)) # Решаем уравнение\n",
    "print(solution) # Выводим значения переменных"
   ]
  },
  {
   "cell_type": "code",
   "execution_count": 8,
   "id": "4bd39e2c",
   "metadata": {},
   "outputs": [
    {
     "name": "stdout",
     "output_type": "stream",
     "text": [
      "[[ 8 10 -1]\n",
      " [ 1  6  4]]\n"
     ]
    }
   ],
   "source": [
    "# Код проверки решения\n",
    "D = np.array([[2, 2, 3],\n",
    "              [-1, 6, 4]])\n",
    "E = np.array([[1, 2, -5],\n",
    "              [2, -6, -4]])\n",
    "F = np.array([[8, 10, -1],\n",
    "              [1, 6, 4]])\n",
    "D = 3*D+2*E\n",
    "print(D)"
   ]
  },
  {
   "cell_type": "code",
   "execution_count": 8,
   "id": "b2a8aea8",
   "metadata": {},
   "outputs": [
    {
     "name": "stdout",
     "output_type": "stream",
     "text": [
      "ранг матрицы А: 1\n",
      "p =  9\n",
      "q =  15\n"
     ]
    }
   ],
   "source": [
    "# Задача 1.3\n",
    "# Так как ранг матрицы А равен 1, соответственно столбцы матрицы являются линейно зависимыми\n",
    "A = np.array([[1, 2, 3],\n",
    "              [3, 6, 9],\n",
    "              [5, 10, 15]])\n",
    "print('ранг матрицы А:', np.linalg.matrix_rank(A))\n",
    "print ('p = ', A[1,2])\n",
    "print ('q = ', A[2,2])"
   ]
  },
  {
   "cell_type": "code",
   "execution_count": 2,
   "id": "30b5d736",
   "metadata": {},
   "outputs": [
    {
     "name": "stdout",
     "output_type": "stream",
     "text": [
      "1.0\n",
      "a1 и a2 линейно независимы\n"
     ]
    }
   ],
   "source": [
    "# Задача 1.4\n",
    "#Проверим линейную независимость 2-х векторов\n",
    "a11 = np.array([2, -5])\n",
    "a21 = np.array([-1, 3])\n",
    "a1 = a11.T\n",
    "a2 = a21.T\n",
    "matrix_a = np.array([a1, a2])\n",
    "determinant = np.linalg.det(matrix_a)\n",
    "if abs(determinant)!=0:\n",
    "    print(determinant)\n",
    "    print(\"a1 и a2 линейно независимы\")\n",
    "else:\n",
    "    print(determinant)\n",
    "    print(\"a1 и a2 линейно зависимы\")"
   ]
  },
  {
   "cell_type": "code",
   "execution_count": 6,
   "id": "9d0d9975",
   "metadata": {},
   "outputs": [
    {
     "name": "stdout",
     "output_type": "stream",
     "text": [
      "Координаты вектора x в базисе B: (6.999999999999995, 12.99999999999999)\n",
      "Координаты вектора x в базисе B: [1 1]\n"
     ]
    }
   ],
   "source": [
    "a1 = np.array([2, -5])\n",
    "a2 = np.array([-1, 3])\n",
    "x3 = np.array([1, 4])\n",
    "x = x3.T\n",
    "# Найдем координаты вектора x в новом базисе \n",
    "c1, c2 = np.linalg.solve(np.array([a1, a2]).T, x)\n",
    "coord_x_B = (c1, c2)\n",
    "print('Координаты вектора x в базисе B:', coord_x_B)\n",
    "# Найдем координаты вектора y в стандартном базисе\n",
    "сoord_y_B_T = np.array([1, 1]) \n",
    "сoord_y_B = сoord_y_B_T.T \n",
    "#Координаты в транспонированном виде в стандартном базисе будут такими же\n",
    "print('Координаты вектора x в базисе B:', сoord_y_B)"
   ]
  },
  {
   "cell_type": "code",
   "execution_count": 16,
   "id": "9489ec44",
   "metadata": {},
   "outputs": [],
   "source": [
    "# Задача 1.5\n",
    "n = 120\n",
    "A = np.random.rand(n, n) # Сгенерируем случайную матрицу\n",
    "u, s, vT = np.linalg.svd(A)\n",
    "err_appr = [] # Создадим спиок для ошибок апроксимации\n",
    "for r in range(2, n+1):\n",
    "    A_F = np.dot(u[:, :r], np.dot(np.diag(s[:r]),vT[:r, :])) # Аппроксимируем матрицу А с рангом r\n",
    "    err = np.linalg.norm(A - A_F) #Находим ошибку\n",
    "    err_appr.append(err)"
   ]
  },
  {
   "cell_type": "code",
   "execution_count": 18,
   "id": "b2607649",
   "metadata": {},
   "outputs": [
    {
     "data": {
      "image/png": "[encoded data removed]",
      "text/plain": [
       "<Figure size 576x360 with 1 Axes>"
      ]
     },
     "metadata": {
      "needs_background": "light"
     },
     "output_type": "display_data"
    }
   ],
   "source": [
    "plt.figure(figsize=(8, 5))\n",
    "plt.plot(range(2, n+1), err_appr, marker='*')\n",
    "plt.xlabel('ранг r')\n",
    "plt.ylabel('ошибка аппрксимации')\n",
    "plt.title('График зависимости ошибки аппроксимации от ранга r')\n",
    "plt.grid(True)\n",
    "plt.show()"
   ]
  },
  {
   "cell_type": "code",
   "execution_count": 22,
   "id": "16784b66",
   "metadata": {},
   "outputs": [
    {
     "name": "stdout",
     "output_type": "stream",
     "text": [
      "Matrix([[6*x1, -2], [-2, 2]])\n",
      "(-1, 0)\n",
      "(5/3, 8/3)\n"
     ]
    }
   ],
   "source": [
    "# Задача 2.1\n",
    "import sympy as sp\n",
    "x1, x2 = sp.symbols('x1 x2')\n",
    "f = x1**3-2*x1*x2+x2**2-3*x1-2*x2\n",
    "# Найдем частные производные\n",
    "df_dx1 = sp.diff(f, x1)\n",
    "df_dx2 = sp.diff(f, x2)\n",
    "d2f_dx1dx1 = sp.diff(df_dx1, x1)\n",
    "d2f_dx1dx2 = sp.diff(df_dx1, x2)\n",
    "d2f_dx2dx1 = sp.diff(df_dx2, x1)\n",
    "d2f_dx2dx2 = sp.diff(df_dx2, x2)\n",
    "H = sp.Matrix([[d2f_dx1dx1, d2f_dx1dx2], [d2f_dx2dx1, d2f_dx2dx2]]) # Матрица Гессе\n",
    "print(H)\n",
    "crit_points = sp.solve([df_dx1, df_dx2], (x1, x2)) # определим критические точки\n",
    "for point in crit_points:\n",
    "    print(point)"
   ]
  },
  {
   "cell_type": "code",
   "execution_count": 24,
   "id": "d1926aff",
   "metadata": {},
   "outputs": [
    {
     "name": "stdout",
     "output_type": "stream",
     "text": [
      "sqrt(x1)/(2*(sqrt(x1) + sqrt(x2))) + sqrt(x2)/(2*(sqrt(x1) + sqrt(x2)))\n",
      "0\n"
     ]
    }
   ],
   "source": [
    "# Задача 2.2\n",
    "x1, x2 = sp.symbols('x1 x2')\n",
    "f = sp.ln(sp.sqrt(x1)+sp.sqrt(x2))\n",
    "df_dx1 = sp.diff(f, x1)\n",
    "df_dx2 = sp.diff(f, x2)\n",
    "S = x1*df_dx1+x2*df_dx2\n",
    "print(S)\n",
    "res = sp.simplify(S - 1/2) # Проверка условия равенства 1/2\n",
    "print(res) # При получении разницы, равной 0, условие выполнется"
   ]
  },
  {
   "cell_type": "code",
   "execution_count": null,
   "id": "133221f0",
   "metadata": {},
   "outputs": [],
   "source": []
  }
 ],
 "metadata": {
  "kernelspec": {
   "display_name": "Python 3 (ipykernel)",
   "language": "python",
   "name": "python3"
  },
  "language_info": {
   "codemirror_mode": {
    "name": "ipython",
    "version": 3
   },
   "file_extension": ".py",
   "mimetype": "text/x-python",
   "name": "python",
   "nbconvert_exporter": "python",
   "pygments_lexer": "ipython3",
   "version": "3.9.7"
  }
 },
 "nbformat": 4,
 "nbformat_minor": 5
}
