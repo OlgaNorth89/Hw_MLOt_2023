{
 "cells": [
  {
   "cell_type": "markdown",
   "metadata": {},
   "source": [
    "# I. Numpy"
   ]
  },
  {
   "cell_type": "markdown",
   "metadata": {},
   "source": [
    "### Импортируйте NumPy"
   ]
  },
  {
   "cell_type": "code",
   "execution_count": 2,
   "metadata": {},
   "outputs": [],
   "source": [
    "import numpy as np"
   ]
  },
  {
   "cell_type": "markdown",
   "metadata": {},
   "source": [
    "### Создайте одномерный массив размера 10, заполненный нулями и пятым элемент равным 1. Трансформируйте в двумерный массив."
   ]
  },
  {
   "cell_type": "code",
   "execution_count": 4,
   "metadata": {},
   "outputs": [
    {
     "data": {
      "text/plain": [
       "array([[0., 0., 0., 0., 1.],\n",
       "       [0., 0., 0., 0., 0.]])"
      ]
     },
     "execution_count": 4,
     "metadata": {},
     "output_type": "execute_result"
    }
   ],
   "source": [
    "array_1 = np.zeros(10)\n",
    "array_1[4] = 1\n",
    "array_2 = array_1.reshape(2, 5)\n",
    "array_2"
   ]
  },
  {
   "cell_type": "markdown",
   "metadata": {},
   "source": [
    "### Создайте одномерный массив со значениями от 10 до 49 и разверните его (первый элемент становится последним). Найдите в нем все четные элементы."
   ]
  },
  {
   "cell_type": "code",
   "execution_count": 5,
   "metadata": {},
   "outputs": [
    {
     "name": "stdout",
     "output_type": "stream",
     "text": [
      "Одномерный массив: [10 11 12 13 14 15 16 17 18 19 20 21 22 23 24 25 26 27 28 29 30 31 32 33\n",
      " 34 35 36 37 38 39 40 41 42 43 44 45 46 47 48 49]\n",
      "Развернутый массив: [49 48 47 46 45 44 43 42 41 40 39 38 37 36 35 34 33 32 31 30 29 28 27 26\n",
      " 25 24 23 22 21 20 19 18 17 16 15 14 13 12 11 10]\n",
      "Четные элементы: [48 46 44 42 40 38 36 34 32 30 28 26 24 22 20 18 16 14 12 10]\n"
     ]
    }
   ],
   "source": [
    "array_12 = np.arange(10, 50)\n",
    "array_21 = np.flip(array_12)\n",
    "even_el = array_21[array_21 % 2 == 0]\n",
    "print(\"Одномерный массив:\", array_12)\n",
    "print(\"Развернутый массив:\", array_21)\n",
    "print(\"Четные элементы:\", even_el)"
   ]
  },
  {
   "cell_type": "markdown",
   "metadata": {},
   "source": [
    "### Создайте двумерный массив 3x3 со значениями от 0 до 8"
   ]
  },
  {
   "cell_type": "code",
   "execution_count": 6,
   "metadata": {},
   "outputs": [
    {
     "data": {
      "text/plain": [
       "array([[0, 1, 2],\n",
       "       [3, 4, 5],\n",
       "       [6, 7, 8]])"
      ]
     },
     "execution_count": 6,
     "metadata": {},
     "output_type": "execute_result"
    }
   ],
   "source": [
    "array_2 = np.arange(9).reshape(3, 3)\n",
    "array_2"
   ]
  },
  {
   "cell_type": "markdown",
   "metadata": {},
   "source": [
    "### Создайте массив 4x3x2 со случайными значениями. Найти его минимум и максимум."
   ]
  },
  {
   "cell_type": "code",
   "execution_count": 7,
   "metadata": {},
   "outputs": [
    {
     "name": "stdout",
     "output_type": "stream",
     "text": [
      "Минимум: 0.006422769131234296 Максимум: 0.9686119602904845\n"
     ]
    }
   ],
   "source": [
    "array_3 = np.random.rand(4, 3, 2)\n",
    "min_el = np.min(array_3)\n",
    "max_el = np.max(array_3)\n",
    "print(\"Минимум:\", min_el, \"Максимум:\", max_el)"
   ]
  },
  {
   "cell_type": "markdown",
   "metadata": {},
   "source": [
    "### Создайте два двумерных массива размерами 6x4 и 4x3 и произведите их матричное умножение. "
   ]
  },
  {
   "cell_type": "code",
   "execution_count": 8,
   "metadata": {},
   "outputs": [
    {
     "data": {
      "text/plain": [
       "array([[1.36620941, 0.58049447, 1.25259392],\n",
       "       [1.10210719, 0.74447023, 1.49347828],\n",
       "       [0.63035968, 0.27575364, 1.09027347],\n",
       "       [1.73194505, 0.92285408, 1.45765479],\n",
       "       [1.34528862, 0.57142986, 1.88915834],\n",
       "       [0.84380665, 0.29341489, 1.33609217]])"
      ]
     },
     "execution_count": 8,
     "metadata": {},
     "output_type": "execute_result"
    }
   ],
   "source": [
    "array_21 = np.random.rand(6, 4)\n",
    "array_22 = np.random.rand(4, 3)\n",
    "arr_prois = np.dot(array_21, array_22)\n",
    "arr_prois"
   ]
  },
  {
   "cell_type": "markdown",
   "metadata": {},
   "source": [
    "### Создайте случайный двумерный массив 7x7, найти у него среднее и стандартное оклонение. Нормализуйте этот массив."
   ]
  },
  {
   "cell_type": "code",
   "execution_count": 13,
   "metadata": {},
   "outputs": [
    {
     "name": "stdout",
     "output_type": "stream",
     "text": [
      "Среднее: 0.5081660084723507\n",
      "Стандартное отклонение: 0.2660111579710022\n",
      "Нормализованный массив:\n",
      "[[ 0.89218304 -1.53108991  1.0464349  -0.50698141 -0.96757047 -0.42190127\n",
      "  -1.13857749]\n",
      " [-1.52951815  1.32189733 -0.33319615  0.76535922  0.56343704 -1.43672793\n",
      "  -1.87495933]\n",
      " [ 0.07852012  0.19947713 -0.14523732 -0.32635939 -0.50045729  1.32524592\n",
      "   1.06995869]\n",
      " [-1.49829665 -0.65003117  0.19120588 -1.15238103  0.71008371  0.04508556\n",
      "  -0.23616865]\n",
      " [ 0.82058144  1.1339753   1.25152343  0.04346972  1.32022781  0.984675\n",
      "   1.16986215]\n",
      " [-1.05528242 -0.3819762   1.75506289 -0.02377407 -1.36841249 -1.36571304\n",
      "   0.99892172]\n",
      " [-1.57273869  1.55046392  0.99482566 -0.76039072  0.49472111 -0.22113609\n",
      "   0.27167861]]\n"
     ]
    }
   ],
   "source": [
    "array_7 = np.random.rand(7, 7)\n",
    "\n",
    "mean_arr = np.mean(array_7) # среднее\n",
    "std_arr = np.std(array_7) # стандартное отклонение\n",
    "\n",
    "print(\"Среднее:\", mean_arr)\n",
    "print(\"Стандартное отклонение:\", std_arr)\n",
    "\n",
    "normal_arr = (array_7 - mean_arr) / std_arr\n",
    "print(\"Нормализованный массив:\")\n",
    "print(normal_arr)"
   ]
  },
  {
   "cell_type": "markdown",
   "metadata": {},
   "source": [
    "# II. Pandas"
   ]
  },
  {
   "cell_type": "markdown",
   "metadata": {},
   "source": [
    "### Импортируйте: pandas, matplotlib, seaborn"
   ]
  },
  {
   "cell_type": "code",
   "execution_count": 14,
   "metadata": {},
   "outputs": [],
   "source": [
    "import pandas as pd\n",
    "import matplotlib.pyplot as plt\n",
    "import seaborn as sns"
   ]
  },
  {
   "cell_type": "markdown",
   "metadata": {},
   "source": [
    "### Загрузите датасет Tips из набора датасетов seaborn"
   ]
  },
  {
   "cell_type": "code",
   "execution_count": null,
   "metadata": {},
   "outputs": [],
   "source": [
    "tips = sns.load_dataset(\"tips\")"
   ]
  },
  {
   "cell_type": "markdown",
   "metadata": {},
   "source": [
    "### Посмотрите на первые 5 строчек"
   ]
  },
  {
   "cell_type": "code",
   "execution_count": null,
   "metadata": {},
   "outputs": [],
   "source": [
    "print(tips.head(5))"
   ]
  },
  {
   "cell_type": "markdown",
   "metadata": {},
   "source": [
    "### Узнайте сколько всего строчек и колонок в данных"
   ]
  },
  {
   "cell_type": "code",
   "execution_count": null,
   "metadata": {},
   "outputs": [],
   "source": [
    "shape_rows = tips.shape[0] # Подсчет количества строк\n",
    "shape_cols = tips.shape[1] # Подсчет количества столбцов\n",
    "\n",
    "print(\"Количество строк:\", shape_rows)\n",
    "print(\"Количество столбцов:\", shape_cols)"
   ]
  },
  {
   "cell_type": "markdown",
   "metadata": {},
   "source": [
    "### Проверьте есть ли пропуски в данных"
   ]
  },
  {
   "cell_type": "code",
   "execution_count": null,
   "metadata": {},
   "outputs": [],
   "source": [
    "el_nul = tips.isnull().sum()\n",
    "print(\"Пропущенных значений в столбце:\")\n",
    "print(el_nul)"
   ]
  },
  {
   "cell_type": "markdown",
   "metadata": {},
   "source": [
    "### Посмотрите на распределение числовых признаков"
   ]
  },
  {
   "cell_type": "code",
   "execution_count": null,
   "metadata": {},
   "outputs": [],
   "source": [
    "tips.info()"
   ]
  },
  {
   "cell_type": "code",
   "execution_count": null,
   "metadata": {},
   "outputs": [],
   "source": [
    "tips.describe()"
   ]
  },
  {
   "cell_type": "markdown",
   "metadata": {},
   "source": [
    "### Найдите максимальное значение 'total_bill'"
   ]
  },
  {
   "cell_type": "code",
   "execution_count": null,
   "metadata": {},
   "outputs": [],
   "source": [
    "max_total_bill = tips['total_bill'].max()\n",
    "print(\"Max total_bill:\", max_total_bill)"
   ]
  },
  {
   "cell_type": "markdown",
   "metadata": {},
   "source": [
    "### Найдите количество курящих людей"
   ]
  },
  {
   "cell_type": "code",
   "execution_count": null,
   "metadata": {},
   "outputs": [],
   "source": [
    "smokers = tips['smoker'].value_counts()['Yes']\n",
    "print(\"Количество курящих людей:\", smokers)"
   ]
  },
  {
   "cell_type": "markdown",
   "metadata": {},
   "source": [
    "### Узнайте какой средний 'total_bill' в зависимости от 'day'"
   ]
  },
  {
   "cell_type": "code",
   "execution_count": null,
   "metadata": {},
   "outputs": [],
   "source": [
    "mean_of_day_total_billday = tips.groupby('day')['total_bill'].mean()\n",
    "print(\"Mean total_bill of the day:\")\n",
    "print(mean_of_day_total_billday)"
   ]
  },
  {
   "cell_type": "markdown",
   "metadata": {},
   "source": [
    "### Отберите строчки с 'total_bill' больше медианы и узнайте какой средний 'tip' в зависимости от 'sex'"
   ]
  },
  {
   "cell_type": "code",
   "execution_count": null,
   "metadata": {},
   "outputs": [],
   "source": [
    "filtered_more_median_tips = tips[tips['total_bill'] > tips['total_bill'].median()]\n",
    "\n",
    "mean_tip = filtered_more_median_tips.groupby('sex')['tip'].mean() # Cреднее 'tip' в зависимости от пола\n",
    "print(\"Средний 'tip' в зависимости от пола:\")\n",
    "print(mean_tip)"
   ]
  },
  {
   "cell_type": "markdown",
   "metadata": {},
   "source": [
    "### Преобразуйте признак 'smoker' в бинарный (0-No, 1-Yes)"
   ]
  },
  {
   "cell_type": "code",
   "execution_count": null,
   "metadata": {},
   "outputs": [],
   "source": [
    "smoker_n = {'Yes': 1, 'No': 0} # преобразование значений 'smoker' в бинарный формат\n",
    "tips['smoker_bin'] = tips['smoker'].map(smoker_n)\n",
    "print(tips[['smoker', 'smoker_bin']])"
   ]
  },
  {
   "cell_type": "markdown",
   "metadata": {},
   "source": [
    "# III. Visualization"
   ]
  },
  {
   "cell_type": "markdown",
   "metadata": {},
   "source": [
    "### Постройте гистограмму распределения признака 'total_bill'"
   ]
  },
  {
   "cell_type": "code",
   "execution_count": null,
   "metadata": {},
   "outputs": [],
   "source": [
    "sns.histplot(tips['total_bill'], kde=True) # Гистограмма распределения признака 'total_bill'\n",
    "plt.xlabel('total_bill')\n",
    "plt.title('Total bill')\n",
    "plt.show()"
   ]
  },
  {
   "cell_type": "markdown",
   "metadata": {},
   "source": [
    "### Постройте scatterplot, представляющий взаимосвязь между признаками 'total_bill' и 'tip'"
   ]
  },
  {
   "cell_type": "code",
   "execution_count": null,
   "metadata": {},
   "outputs": [],
   "source": [
    "sns.scatterplot(data=tips, x='total_bill', y='tip') # Построение графика scatterplot\n",
    "plt.xlabel('total_bill')\n",
    "plt.ylabel('tip')\n",
    "plt.title('Tip/Total Bill')\n",
    "plt.show()"
   ]
  },
  {
   "cell_type": "markdown",
   "metadata": {},
   "source": [
    "### Постройте pairplot"
   ]
  },
  {
   "cell_type": "code",
   "execution_count": null,
   "metadata": {},
   "outputs": [],
   "source": [
    "sns.pairplot(tips) # Построение графика pairplot\n",
    "plt.show()"
   ]
  },
  {
   "cell_type": "markdown",
   "metadata": {},
   "source": [
    "### Постройте график взаимосвязи между признаками 'total_bill' и 'day'"
   ]
  },
  {
   "cell_type": "code",
   "execution_count": null,
   "metadata": {},
   "outputs": [],
   "source": [
    "sns.boxplot(data=tips, x='day', y='total_bill') # Построение графика boxplot\n",
    "plt.xlabel('day')\n",
    "plt.ylabel('total_bill')\n",
    "plt.title('Total Bill/Day')\n",
    "plt.show()"
   ]
  },
  {
   "cell_type": "markdown",
   "metadata": {},
   "source": [
    "### Постройте две гистограммы распределения признака 'tip' в зависимости от категорий 'time'"
   ]
  },
  {
   "cell_type": "code",
   "execution_count": null,
   "metadata": {},
   "outputs": [],
   "source": [
    "total_bill_time = tips.groupby('time')['total_bill'].count()\n",
    "print(total_bill_time)"
   ]
  },
  {
   "cell_type": "code",
   "execution_count": null,
   "metadata": {},
   "outputs": [],
   "source": [
    "sns.histplot(data=tips[tips['time'] == 'Dinner'], x='tip', color='yellow', label='Dinner')\n",
    "sns.histplot(data=tips[tips['time'] == 'Lunch'], x='tip', color='green', label='Lunch')\n",
    "\n",
    "plt.xlabel('tip')\n",
    "plt.title('Histogram Tips of Time')\n",
    "plt.legend()\n",
    "plt.show()"
   ]
  },
  {
   "cell_type": "markdown",
   "metadata": {},
   "source": [
    "### Постройте два графика scatterplot, представляющих взаимосвязь между признаками 'total_bill' и 'tip' один для Male, другой для Female и раскрасьте точки в зависимоти от признака 'smoker'"
   ]
  },
  {
   "cell_type": "code",
   "execution_count": null,
   "metadata": {},
   "outputs": [],
   "source": [
    "sns.histplot(data=tips[tips['sex'] == 'Male'], x='tip', kde=True, color='blue', label='Male')\n",
    "sns.histplot(data=tips[tips['sex'] == 'Female'], x='tip', kde=True, color='pink', label='Female')\n",
    "plt.xlabel('tip')\n",
    "plt.title('Histogram Tips of Male/Famele')\n",
    "plt.legend()\n",
    "plt.show()"
   ]
  },
  {
   "cell_type": "code",
   "execution_count": null,
   "metadata": {},
   "outputs": [],
   "source": [
    "sum_sex = tips.groupby('sex')['smoker'].count()\n",
    "print(sum_sex)"
   ]
  },
  {
   "cell_type": "code",
   "execution_count": null,
   "metadata": {},
   "outputs": [],
   "source": [
    "sns.lmplot(x='size', y='total_bill', data=tips) # Гистограмма распределения признака 'total_bill' в зависимости от длительности посещения\n",
    "plt.xlabel('total_bill')\n",
    "plt.title('Total bill')\n",
    "plt.show()"
   ]
  },
  {
   "cell_type": "markdown",
   "metadata": {},
   "source": [
    "## Сделайте выводы по анализу датасета и построенным графикам. По желанию можете продолжить анализ данных и также отразить это в выводах."
   ]
  },
  {
   "cell_type": "code",
   "execution_count": null,
   "metadata": {},
   "outputs": [],
   "source": [
    "# В датасете 244 наблюдения распределения суммы чека, в зависимости от признаков: размер чаевых; пола посетителя;\n",
    "# признака, является посетитель курящим или нет; дня недели, посещения; времени посещения в течение дня;\n",
    "# длительности посещения.\n",
    "# Максимальный чек - 50,81. Средний чек в диапазоне - от 15 до 20, размер чаевых коррелирует с общим размером чека.\n",
    "# Основная масса чаевых приходимтся на обеденное время. Среди посетителей больше чаевых оставляяют мужчины.\n",
    "# "
   ]
  }
 ],
 "metadata": {
  "kernelspec": {
   "display_name": "Python 3 (ipykernel)",
   "language": "python",
   "name": "python3"
  },
  "language_info": {
   "codemirror_mode": {
    "name": "ipython",
    "version": 3
   },
   "file_extension": ".py",
   "mimetype": "text/x-python",
   "name": "python",
   "nbconvert_exporter": "python",
   "pygments_lexer": "ipython3",
   "version": "3.9.7"
  },
  "toc-autonumbering": false
 },
 "nbformat": 4,
 "nbformat_minor": 2
}
